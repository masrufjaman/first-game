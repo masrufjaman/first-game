{
 "cells": [
  {
   "cell_type": "code",
   "execution_count": 1,
   "metadata": {
    "scrolled": true
   },
   "outputs": [
    {
     "name": "stdout",
     "output_type": "stream",
     "text": [
      "Welcome to my first game!\n",
      "\n",
      "\n"
     ]
    }
   ],
   "source": [
    "print(\"Welcome to my first game!\\n\\n\")"
   ]
  },
  {
   "cell_type": "code",
   "execution_count": 4,
   "metadata": {},
   "outputs": [
    {
     "data": {
      "text/plain": [
       "'\\nstr \"Hello\", \\'hi\\', \"89\"\\nint 8, 7, -9, 10000\\nfloat 6.0, 7.5, -9.8, -100.0\\nbool  True, False\\n'"
      ]
     },
     "execution_count": 4,
     "metadata": {},
     "output_type": "execute_result"
    }
   ],
   "source": [
    "'''\n",
    "str \"Hello\", 'hi', \"89\"\n",
    "int 8, 7, -9, 10000\n",
    "float 6.0, 7.5, -9.8, -100.0\n",
    "bool  True, False\n",
    "'''"
   ]
  },
  {
   "cell_type": "code",
   "execution_count": 9,
   "metadata": {},
   "outputs": [
    {
     "data": {
      "text/plain": [
       "'\\nx = True\\nprint(x)\\n'"
      ]
     },
     "execution_count": 9,
     "metadata": {},
     "output_type": "execute_result"
    }
   ],
   "source": [
    "'''\n",
    "x = True\n",
    "print(x)\n",
    "'''"
   ]
  },
  {
   "cell_type": "code",
   "execution_count": 2,
   "metadata": {},
   "outputs": [
    {
     "name": "stdout",
     "output_type": "stream",
     "text": [
      "What is your name? Masruf\n",
      "What is your age? 22\n"
     ]
    }
   ],
   "source": [
    "name = input(\"What is your name? \")\n",
    "age = int(input(\"What is your age? \"))"
   ]
  },
  {
   "cell_type": "code",
   "execution_count": 3,
   "metadata": {},
   "outputs": [
    {
     "name": "stdout",
     "output_type": "stream",
     "text": [
      "\n",
      "Hello Masruf\n"
     ]
    }
   ],
   "source": [
    "print(\"\\nHello\", name)"
   ]
  },
  {
   "cell_type": "code",
   "execution_count": null,
   "metadata": {},
   "outputs": [],
   "source": [
    "'''\n",
    "*\n",
    "/\n",
    "+\n",
    "-\n",
    "%\n",
    "//\n",
    "**\n",
    "x = 9\n",
    "y = 8\n",
    "x += y -> 17\n",
    "z = x**(y + y) **:power\n",
    "\n",
    "a = 7\n",
    "b = 2\n",
    "c = a // b -> 3\n",
    "\n",
    "<\n",
    ">\n",
    "<=\n",
    ">=\n",
    "==\n",
    "!=\n",
    "'''"
   ]
  },
  {
   "cell_type": "code",
   "execution_count": 4,
   "metadata": {},
   "outputs": [],
   "source": [
    "health = 10"
   ]
  },
  {
   "cell_type": "code",
   "execution_count": 7,
   "metadata": {},
   "outputs": [
    {
     "name": "stdout",
     "output_type": "stream",
     "text": [
      "You are old enough to play!\n",
      "Do you want to play?[yes/no]: yes\n",
      "You are starting with 0 health.\n",
      "Let's Play!\n",
      "First choice... Left or Right?[lefft/right]: left\n",
      "Nice, you follow the path and reach a lake... Do you swim across or go around?[across/around] across\n",
      "You managed to get across, but were bit by a snake and lost 5 helath\n",
      "You notice a house and a river. Which do you go to?[river/house]: house\n",
      "You fell in the river and lost...\n"
     ]
    }
   ],
   "source": [
    "if age >= 18:\n",
    "    print(\"You are old enough to play!\")\n",
    "    \n",
    "    wants_to_play = input(\"Do you want to play?[yes/no]: \").lower()\n",
    "    if wants_to_play == \"yes\":\n",
    "        print(\"You are starting with\", health, \"health.\")\n",
    "        print(\"Let's Play!\")\n",
    "        \n",
    "        left_or_right = input(\"First choice... Left or Right?[lefft/right]: \").lower()\n",
    "        if left_or_right == \"left\" and \"l\":\n",
    "            \n",
    "            ans = input(\"Nice, you follow the path and reach a lake... Do you swim across or go around?[across/around] \").lower()\n",
    "            if ans == \"around\":\n",
    "                print(\"You went around and reached the other side of the lake.\")\n",
    "                \n",
    "            else:\n",
    "                print(\"You managed to get across, but were bit by a snake and lost 5 helath\")\n",
    "                health -= 5\n",
    "            \n",
    "            ans == input(\"You notice a house and a river. Which do you go to?[river/house]: \").lower()\n",
    "            if ans == \"house\":\n",
    "                print(\"You go to the house and are greted by the owner... He doesn't like you and you lose 5 health.\")\n",
    "                health -= 5\n",
    "                \n",
    "                if health <= 0:\n",
    "                    print(\"You now have 0 health and you lost the game...\")\n",
    "                \n",
    "                else:\n",
    "                    print(\"You have survived... You win!\")\n",
    "                \n",
    "            else:\n",
    "                print(\"You fell in the river and lost...\")\n",
    "            \n",
    "        else:\n",
    "            print(\"You fell down and lost...\")\n",
    "        \n",
    "    else:\n",
    "        print(\"Cya...\")\n",
    "\n",
    "else:\n",
    "    print(\"You are not old enogh to play...\")\n",
    "    \n",
    "## elif :\n",
    "## .upper()"
   ]
  }
 ],
 "metadata": {
  "kernelspec": {
   "display_name": "Python 3",
   "language": "python",
   "name": "python3"
  },
  "language_info": {
   "codemirror_mode": {
    "name": "ipython",
    "version": 3
   },
   "file_extension": ".py",
   "mimetype": "text/x-python",
   "name": "python",
   "nbconvert_exporter": "python",
   "pygments_lexer": "ipython3",
   "version": "3.8.5"
  }
 },
 "nbformat": 4,
 "nbformat_minor": 4
}
