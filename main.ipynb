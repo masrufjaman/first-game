{
 "cells": [
  {
   "cell_type": "code",
   "execution_count": 2,
   "metadata": {
    "scrolled": true
   },
   "outputs": [
    {
     "name": "stdout",
     "output_type": "stream",
     "text": [
      "Welcome to my first game!\n"
     ]
    }
   ],
   "source": [
    "print(\"Welcome to my first game!\")"
   ]
  },
  {
   "cell_type": "code",
   "execution_count": 4,
   "metadata": {
    "collapsed": true
   },
   "outputs": [
    {
     "data": {
      "text/plain": [
       "'\\nstr \"Hello\", \\'hi\\', \"89\"\\nint 8, 7, -9, 10000\\nfloat 6.0, 7.5, -9.8, -100.0\\nbool  True, False\\n'"
      ]
     },
     "execution_count": 4,
     "metadata": {},
     "output_type": "execute_result"
    }
   ],
   "source": [
    "'''\n",
    "str \"Hello\", 'hi', \"89\"\n",
    "int 8, 7, -9, 10000\n",
    "float 6.0, 7.5, -9.8, -100.0\n",
    "bool  True, False\n",
    "'''"
   ]
  },
  {
   "cell_type": "code",
   "execution_count": 9,
   "metadata": {
    "collapsed": true
   },
   "outputs": [
    {
     "data": {
      "text/plain": [
       "'\\nx = True\\nprint(x)\\n'"
      ]
     },
     "execution_count": 9,
     "metadata": {},
     "output_type": "execute_result"
    }
   ],
   "source": [
    "'''\n",
    "x = True\n",
    "print(x)\n",
    "'''"
   ]
  },
  {
   "cell_type": "code",
   "execution_count": 10,
   "metadata": {},
   "outputs": [
    {
     "name": "stdout",
     "output_type": "stream",
     "text": [
      "What is your name? Masruf\n",
      "What is your age? 22\n"
     ]
    }
   ],
   "source": [
    "name = input(\"What is your name? \")\n",
    "age = int(input(\"What is your age? \"))"
   ]
  },
  {
   "cell_type": "code",
   "execution_count": 16,
   "metadata": {},
   "outputs": [
    {
     "name": "stdout",
     "output_type": "stream",
     "text": [
      "Hello Masruf you are 22 years old.\n"
     ]
    }
   ],
   "source": [
    "print(\"Hello\", name, \"you are\", age, \"years old.\")"
   ]
  },
  {
   "cell_type": "code",
   "execution_count": null,
   "metadata": {},
   "outputs": [],
   "source": [
    "'''\n",
    "*\n",
    "/\n",
    "+\n",
    "-\n",
    "%\n",
    "//\n",
    "**\n",
    "x = 9\n",
    "y = 8\n",
    "x += y -> 17\n",
    "z = x**(y + y) **:power\n",
    "\n",
    "a = 7\n",
    "b = 2\n",
    "c = a // b -> 3\n",
    "\n",
    "<\n",
    ">\n",
    "<=\n",
    ">=\n",
    "==\n",
    "!=\n",
    "'''"
   ]
  },
  {
   "cell_type": "code",
   "execution_count": 30,
   "metadata": {},
   "outputs": [
    {
     "name": "stdout",
     "output_type": "stream",
     "text": [
      "You are old enough to play!\n",
      "Do you want to play? y\n",
      "Let's Play!\n"
     ]
    }
   ],
   "source": [
    "if age >= 18:\n",
    "    print(\"You are old enough to play!\")\n",
    "    \n",
    "    wants_to_play = input(\"Do you want to play?[y] \")\n",
    "    if wants_to_play == \"yes\" or \"y\":\n",
    "        print(\"Let's Play!\")\n",
    "else:\n",
    "    print(\"You are not old enogh to play...\")\n",
    "    \n",
    "## elif "
   ]
  },
  {
   "cell_type": "code",
   "execution_count": null,
   "metadata": {},
   "outputs": [],
   "source": []
  }
 ],
 "metadata": {
  "kernelspec": {
   "display_name": "Python 3",
   "language": "python",
   "name": "python3"
  },
  "language_info": {
   "codemirror_mode": {
    "name": "ipython",
    "version": 3
   },
   "file_extension": ".py",
   "mimetype": "text/x-python",
   "name": "python",
   "nbconvert_exporter": "python",
   "pygments_lexer": "ipython3",
   "version": "3.8.5"
  }
 },
 "nbformat": 4,
 "nbformat_minor": 4
}
